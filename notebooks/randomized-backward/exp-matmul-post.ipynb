{
 "cells": [
  {
   "cell_type": "markdown",
   "id": "5a0af7e2",
   "metadata": {},
   "source": [
    "# Variance Estimation: Postprocessing"
   ]
  },
  {
   "cell_type": "code",
   "execution_count": 1,
   "id": "9cd2a73a",
   "metadata": {},
   "outputs": [],
   "source": [
    "import matplotlib as mpl\n",
    "import matplotlib.pyplot as plt\n",
    "import pandas as pd\n",
    "import tensorboard as tb\n",
    "import tensorboard.data_compat\n",
    "import tensorflow as tf"
   ]
  },
  {
   "cell_type": "code",
   "execution_count": 2,
   "id": "d4f466d8",
   "metadata": {},
   "outputs": [],
   "source": [
    "from pathlib import Path\n",
    "from typing import List, Optional"
   ]
  },
  {
   "cell_type": "markdown",
   "id": "0975315a",
   "metadata": {},
   "source": [
    "First of all, define some globals."
   ]
  },
  {
   "cell_type": "code",
   "execution_count": 212,
   "id": "40ee3895",
   "metadata": {},
   "outputs": [],
   "source": [
    "METRICS = {'eval/accuracy', 'eval/matthews_correlation', 'eval/pearson'}\n",
    "COUNTER = {'train/train_runtime'}"
   ]
  },
  {
   "cell_type": "code",
   "execution_count": 47,
   "id": "f5a30f50",
   "metadata": {},
   "outputs": [],
   "source": [
    "def convert(srcs: List[Path], dst: Optional[Path] = None) -> pd.DataFrame:\n",
    "    \"\"\"Function convert reads TensorBoard (written by HuggingFace transformers\n",
    "    library), filters it contents, and write it to CSV file.\n",
    "    \"\"\"\n",
    "    records = []\n",
    "    for i, el in enumerate(tf.data.TFRecordDataset(srcs)):\n",
    "        event = tb.compat.proto.event_pb2.Event.FromString(el.numpy())\n",
    "        event = tb.data_compat.migrate_event(event)\n",
    "        if event.summary is None:\n",
    "            continue\n",
    "        for value in event.summary.value:\n",
    "            prefix, _ = value.tag.split('/', 1)\n",
    "            if prefix not in ('eval', 'train'):\n",
    "                continue\n",
    "            records.append((event.step, value.tag, value.tensor.float_val[0]))\n",
    "\n",
    "    df = pd.DataFrame(data=records, columns=('step', 'tag', 'value'))\n",
    "    df = df.set_index(['tag', 'step'])\n",
    "    df = df.sort_index()\n",
    "    if dst:\n",
    "        df.to_csv(dst)\n",
    "    return df"
   ]
  },
  {
   "cell_type": "code",
   "execution_count": 381,
   "id": "8b04cac3",
   "metadata": {},
   "outputs": [],
   "source": [
    "root = Path('../../')"
   ]
  },
  {
   "cell_type": "markdown",
   "id": "7f8ed0fb",
   "metadata": {},
   "source": [
    "Read all TensorBoard logs."
   ]
  },
  {
   "cell_type": "code",
   "execution_count": 402,
   "id": "45b40071",
   "metadata": {},
   "outputs": [],
   "source": [
    "frames = []\n",
    "for matmul in map(Path, ['dct', 'dft', 'gauss', 'rademacher']):\n",
    "    dirname = root / 'log' / matmul\n",
    "    filenames = !find -L \"$dirname\" -mindepth 1 -maxdepth 3 -type f -printf \"%P\\n\"\n",
    "    for filename in filenames:\n",
    "        param, task, _ = filename.split('/', 2)\n",
    "        path = dirname / filename\n",
    "        frame = convert(path)\n",
    "        frame = frame.reset_index()\n",
    "        frame['matmul'] = str(matmul)\n",
    "        frame['task'] = task.upper()\n",
    "        frame['param'] = param\n",
    "        frames.append(frame)"
   ]
  },
  {
   "cell_type": "code",
   "execution_count": 403,
   "id": "d2e0d6b0",
   "metadata": {},
   "outputs": [],
   "source": [
    "df = pd.concat(frames) \\\n",
    "    .set_index(['task', 'param', 'tag', 'step']) \\\n",
    "    .sort_index() \\\n",
    "    .reset_index()"
   ]
  },
  {
   "cell_type": "code",
   "execution_count": 404,
   "id": "330d8bc8",
   "metadata": {},
   "outputs": [],
   "source": [
    "df = df[df.param.isin({'10', '20', '50', 'baseline'})]"
   ]
  },
  {
   "cell_type": "markdown",
   "id": "03bab543",
   "metadata": {},
   "source": [
    "## Time"
   ]
  },
  {
   "cell_type": "code",
   "execution_count": 405,
   "id": "dc7e0d2b",
   "metadata": {},
   "outputs": [],
   "source": [
    "times = df[df.tag.isin(COUNTER)]\n",
    "times = times \\\n",
    "    .set_index(['task', 'matmul', 'param']) \\\n",
    "    .groupby(level=[0, 1, 2])[['value']] \\\n",
    "    .max()"
   ]
  },
  {
   "cell_type": "code",
   "execution_count": 406,
   "id": "07ee9c34",
   "metadata": {},
   "outputs": [],
   "source": [
    "frame = times.loc['COLA'].reset_index()\n",
    "frame_baseline = frame[frame.param == 'baseline'].copy()\n",
    "frame_baseline['matmul'] = 'No RMM'\n",
    "frame_baseline = frame_baseline \\\n",
    "    .groupby('matmul') \\\n",
    "    .agg({'param': 'first', 'value': 'mean'}) \\\n",
    "    .reset_index() \\\n",
    "    .set_index(['matmul', 'param'])\n",
    "frame_rmm = frame[frame.param != 'baseline'].copy()\n",
    "frame_rmm = frame_rmm \\\n",
    "    .set_index(['matmul', 'param']) \\\n",
    "    .sort_index()\n",
    "frame = pd.concat([frame_baseline, frame_rmm])\n",
    "frame['value'] = pd.to_timedelta(frame.value, unit='s')\n",
    "frame['time'] = frame \\\n",
    "    .value.dt.components \\\n",
    "    .apply(lambda x: f'{x.minutes:02d}:{x.seconds:02d}', axis=1)\n",
    "frame = frame[['time']]"
   ]
  },
  {
   "cell_type": "code",
   "execution_count": 407,
   "id": "1f1efe27",
   "metadata": {},
   "outputs": [],
   "source": [
    "rhs = frame"
   ]
  },
  {
   "cell_type": "markdown",
   "id": "b35b6dbb",
   "metadata": {},
   "source": [
    "### Score"
   ]
  },
  {
   "cell_type": "code",
   "execution_count": 408,
   "id": "eee7a974",
   "metadata": {},
   "outputs": [],
   "source": [
    "perf = df[df.tag.isin(METRICS)]\n",
    "perf = perf \\\n",
    "    .set_index(['task', 'matmul', 'param']) \\\n",
    "    .groupby(level=[0, 1, 2])[['value']] \\\n",
    "    .max()"
   ]
  },
  {
   "cell_type": "code",
   "execution_count": 409,
   "id": "de4812f3",
   "metadata": {},
   "outputs": [],
   "source": [
    "frame = perf.loc['COLA'].reset_index()\n",
    "frame_baseline = frame[frame.param == 'baseline'].copy()\n",
    "frame_baseline['matmul'] = 'No RMM'\n",
    "frame_baseline = frame_baseline \\\n",
    "    .groupby('matmul') \\\n",
    "    .agg({'param': 'first', 'value': 'mean'}) \\\n",
    "    .reset_index() \\\n",
    "    .set_index(['matmul', 'param'])\n",
    "frame_rmm = frame[frame.param != 'baseline'].copy()\n",
    "frame_rmm = frame_rmm \\\n",
    "    .set_index(['matmul', 'param']) \\\n",
    "    .sort_index()\n",
    "frame = pd.concat([frame_baseline, frame_rmm])\n",
    "frame['score'] = (100 * frame.value).round(2)\n",
    "frame = frame[['score']]"
   ]
  },
  {
   "cell_type": "code",
   "execution_count": 410,
   "id": "21e5afb5",
   "metadata": {},
   "outputs": [],
   "source": [
    "lhs = frame"
   ]
  },
  {
   "cell_type": "code",
   "execution_count": 411,
   "id": "e63d4948",
   "metadata": {},
   "outputs": [],
   "source": [
    "tbl = pd.merge(lhs, rhs, left_index=True, right_index=True)"
   ]
  },
  {
   "cell_type": "code",
   "execution_count": 412,
   "id": "6a40c8cb",
   "metadata": {},
   "outputs": [],
   "source": [
    "MDASH = '—'"
   ]
  },
  {
   "cell_type": "code",
   "execution_count": 413,
   "id": "52947b79",
   "metadata": {},
   "outputs": [],
   "source": [
    "def format_param(value: str) -> str:\n",
    "    if value == 'baseline':\n",
    "        return f'{MDASH:^5s}'\n",
    "    else:\n",
    "        return f'{float(int(value)):.0f}%'\n",
    "    \n",
    "\n",
    "def format_matmul(value: str) -> str:\n",
    "    if value.lower() in ('no rmm', 'baseline'):\n",
    "        return 'No RMM'\n",
    "    elif value.lower() in ('dct', 'dft'):\n",
    "        return value.upper()\n",
    "    elif value in ('gauss', 'kroneker', 'rademacher'):\n",
    "        return value.capitalize()"
   ]
  },
  {
   "cell_type": "code",
   "execution_count": 414,
   "id": "29868a25",
   "metadata": {},
   "outputs": [],
   "source": [
    "tbl = tbl \\\n",
    "    .sort_index(ascending=[True, False]) \\\n",
    "    .reset_index() \\\n",
    "    .dropna()\n",
    "tbl['param'] = tbl.param.apply(format_param)"
   ]
  },
  {
   "cell_type": "code",
   "execution_count": 415,
   "id": "50ea0d56",
   "metadata": {},
   "outputs": [],
   "source": [
    "tbl['matmul'] = tbl.matmul.apply(format_matmul)"
   ]
  },
  {
   "cell_type": "code",
   "execution_count": 416,
   "id": "db345e4a",
   "metadata": {},
   "outputs": [],
   "source": [
    "tbl.columns = ['MatMul', 'Rate', 'Score', 'Time, min']"
   ]
  },
  {
   "cell_type": "code",
   "execution_count": 417,
   "id": "7c32987a",
   "metadata": {},
   "outputs": [],
   "source": [
    "tbl = tbl.set_index(['MatMul', 'Rate'])"
   ]
  },
  {
   "cell_type": "code",
   "execution_count": 418,
   "id": "0cc93aed",
   "metadata": {},
   "outputs": [
    {
     "data": {
      "text/html": [
       "<div>\n",
       "<style scoped>\n",
       "    .dataframe tbody tr th:only-of-type {\n",
       "        vertical-align: middle;\n",
       "    }\n",
       "\n",
       "    .dataframe tbody tr th {\n",
       "        vertical-align: top;\n",
       "    }\n",
       "\n",
       "    .dataframe thead th {\n",
       "        text-align: right;\n",
       "    }\n",
       "</style>\n",
       "<table border=\"1\" class=\"dataframe\">\n",
       "  <thead>\n",
       "    <tr style=\"text-align: right;\">\n",
       "      <th></th>\n",
       "      <th></th>\n",
       "      <th>Score</th>\n",
       "      <th>Time, min</th>\n",
       "    </tr>\n",
       "    <tr>\n",
       "      <th>MatMul</th>\n",
       "      <th>Rate</th>\n",
       "      <th></th>\n",
       "      <th></th>\n",
       "    </tr>\n",
       "  </thead>\n",
       "  <tbody>\n",
       "    <tr>\n",
       "      <th>No RMM</th>\n",
       "      <th>—</th>\n",
       "      <td>60.90</td>\n",
       "      <td>08:44</td>\n",
       "    </tr>\n",
       "    <tr>\n",
       "      <th rowspan=\"3\" valign=\"top\">DCT</th>\n",
       "      <th>50%</th>\n",
       "      <td>59.17</td>\n",
       "      <td>16:26</td>\n",
       "    </tr>\n",
       "    <tr>\n",
       "      <th>20%</th>\n",
       "      <td>58.81</td>\n",
       "      <td>16:37</td>\n",
       "    </tr>\n",
       "    <tr>\n",
       "      <th>10%</th>\n",
       "      <td>53.38</td>\n",
       "      <td>17:24</td>\n",
       "    </tr>\n",
       "    <tr>\n",
       "      <th rowspan=\"3\" valign=\"top\">DFT</th>\n",
       "      <th>50%</th>\n",
       "      <td>59.05</td>\n",
       "      <td>12:20</td>\n",
       "    </tr>\n",
       "    <tr>\n",
       "      <th>20%</th>\n",
       "      <td>60.60</td>\n",
       "      <td>11:42</td>\n",
       "    </tr>\n",
       "    <tr>\n",
       "      <th>10%</th>\n",
       "      <td>47.62</td>\n",
       "      <td>12:25</td>\n",
       "    </tr>\n",
       "    <tr>\n",
       "      <th rowspan=\"3\" valign=\"top\">Gauss</th>\n",
       "      <th>50%</th>\n",
       "      <td>58.60</td>\n",
       "      <td>10:36</td>\n",
       "    </tr>\n",
       "    <tr>\n",
       "      <th>20%</th>\n",
       "      <td>57.79</td>\n",
       "      <td>10:02</td>\n",
       "    </tr>\n",
       "    <tr>\n",
       "      <th>10%</th>\n",
       "      <td>56.52</td>\n",
       "      <td>10:03</td>\n",
       "    </tr>\n",
       "    <tr>\n",
       "      <th rowspan=\"3\" valign=\"top\">Rademacher</th>\n",
       "      <th>50%</th>\n",
       "      <td>62.38</td>\n",
       "      <td>15:27</td>\n",
       "    </tr>\n",
       "    <tr>\n",
       "      <th>20%</th>\n",
       "      <td>59.11</td>\n",
       "      <td>15:38</td>\n",
       "    </tr>\n",
       "    <tr>\n",
       "      <th>10%</th>\n",
       "      <td>55.50</td>\n",
       "      <td>15:43</td>\n",
       "    </tr>\n",
       "  </tbody>\n",
       "</table>\n",
       "</div>"
      ],
      "text/plain": [
       "                  Score Time, min\n",
       "MatMul     Rate                  \n",
       "No RMM       —    60.90     08:44\n",
       "DCT        50%    59.17     16:26\n",
       "           20%    58.81     16:37\n",
       "           10%    53.38     17:24\n",
       "DFT        50%    59.05     12:20\n",
       "           20%    60.60     11:42\n",
       "           10%    47.62     12:25\n",
       "Gauss      50%    58.60     10:36\n",
       "           20%    57.79     10:02\n",
       "           10%    56.52     10:03\n",
       "Rademacher 50%    62.38     15:27\n",
       "           20%    59.11     15:38\n",
       "           10%    55.50     15:43"
      ]
     },
     "execution_count": 418,
     "metadata": {},
     "output_type": "execute_result"
    }
   ],
   "source": [
    "tbl"
   ]
  },
  {
   "cell_type": "code",
   "execution_count": 419,
   "id": "20ac39d3",
   "metadata": {},
   "outputs": [],
   "source": [
    "tbl.to_latex(buf='../../doc/randomized-backward/tbl/matmul-comparison.tex', column_format='llrr')"
   ]
  },
  {
   "cell_type": "markdown",
   "id": "7025040f",
   "metadata": {},
   "source": [
    "Select neccesary columns and filter rows by metric name."
   ]
  },
  {
   "cell_type": "code",
   "execution_count": 496,
   "id": "3f382c63",
   "metadata": {},
   "outputs": [
    {
     "data": {
      "image/png": "[encoded data removed]",
      "text/plain": [
       "<Figure size 487.5x301.292 with 1 Axes>"
      ]
     },
     "metadata": {
      "needs_background": "light"
     },
     "output_type": "display_data"
    }
   ],
   "source": [
    "with mpl.rc_context({\n",
    "        'backend': 'pgf',\n",
    "        'figure.dpi': 150,\n",
    "        **bundles.icml2022(column='half', nrows=1),\n",
    "}):\n",
    "    fig, ax = plt.subplots()\n",
    "\n",
    "    ax.plot(lb.step / nosteps, lb.value, label='Lower bound')\n",
    "    ax.plot(ratio.step / nosteps , ratio.value, label='Variance ratio')\n",
    "    ax.plot(ub.step / nosteps, ub.value, label='Upper bound')\n",
    "    ax.legend(loc='upper right')\n",
    "    ax.grid()\n",
    "    ax.set_xlim(0, 10)\n",
    "    ax.set_ylim(ymin=0.9, ymax=1.6)\n",
    "    ax.set_xlabel('Epoch')\n",
    "    ax.set_ylabel('Variance Ratio')\n",
    "    \n",
    "    fig.savefig('../doc/randomized-backward/fig/variance-ratio.pgf')"
   ]
  }
 ],
 "metadata": {
  "jupytext": {
   "cell_metadata_filter": "-all",
   "main_language": "python",
   "notebook_metadata_filter": "-all"
  },
  "kernelspec": {
   "display_name": "Python 3 (ipykernel)",
   "language": "python",
   "name": "python3"
  },
  "language_info": {
   "codemirror_mode": {
    "name": "ipython",
    "version": 3
   },
   "file_extension": ".py",
   "mimetype": "text/x-python",
   "name": "python",
   "nbconvert_exporter": "python",
   "pygments_lexer": "ipython3",
   "version": "3.10.1"
  }
 },
 "nbformat": 4,
 "nbformat_minor": 5
}
